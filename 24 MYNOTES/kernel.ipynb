{
  "cells": [
    {
      "metadata": {
        "_uuid": "8f2839f25d086af736a60e9eeb907d3b93b6e0e5",
        "_cell_guid": "b1076dfc-b9ad-4769-8c92-a6c4dae69d19",
        "trusted": true
      },
      "cell_type": "code",
      "source": "# This Python 3 environment comes with many helpful analytics libraries installed\n# It is defined by the kaggle/python docker image: https://github.com/kaggle/docker-python\n# For example, here's several helpful packages to load in \n\nimport numpy as np # linear algebra\nimport pandas as pd # data processing, CSV file I/O (e.g. pd.read_csv)\n\n# Input data files are available in the \"../input/\" directory.\n# For example, running this (by clicking run or pressing Shift+Enter) will list the files in the input directory\n\nimport os\nprint(os.listdir(\"../input\"))\nimport math\nimport operator\n\n# Any results you write to the current directory are saved as output.",
      "execution_count": 36,
      "outputs": [
        {
          "output_type": "stream",
          "text": "['database.sqlite', 'Iris.csv']\n",
          "name": "stdout"
        }
      ]
    },
    {
      "metadata": {
        "_cell_guid": "79c7e3d0-c299-4dcb-8224-4455121ee9b0",
        "_uuid": "d629ff2d2480ee46fbb7e2d37f6b5fab8052498a",
        "trusted": true
      },
      "cell_type": "code",
      "source": "iris = pd.read_csv('../input/Iris.csv')\niris.head()",
      "execution_count": 37,
      "outputs": [
        {
          "output_type": "execute_result",
          "execution_count": 37,
          "data": {
            "text/plain": "   Id  SepalLengthCm     ...       PetalWidthCm      Species\n0   1            5.1     ...                0.2  Iris-setosa\n1   2            4.9     ...                0.2  Iris-setosa\n2   3            4.7     ...                0.2  Iris-setosa\n3   4            4.6     ...                0.2  Iris-setosa\n4   5            5.0     ...                0.2  Iris-setosa\n\n[5 rows x 6 columns]",
            "text/html": "<div>\n<style scoped>\n    .dataframe tbody tr th:only-of-type {\n        vertical-align: middle;\n    }\n\n    .dataframe tbody tr th {\n        vertical-align: top;\n    }\n\n    .dataframe thead th {\n        text-align: right;\n    }\n</style>\n<table border=\"1\" class=\"dataframe\">\n  <thead>\n    <tr style=\"text-align: right;\">\n      <th></th>\n      <th>Id</th>\n      <th>SepalLengthCm</th>\n      <th>SepalWidthCm</th>\n      <th>PetalLengthCm</th>\n      <th>PetalWidthCm</th>\n      <th>Species</th>\n    </tr>\n  </thead>\n  <tbody>\n    <tr>\n      <th>0</th>\n      <td>1</td>\n      <td>5.1</td>\n      <td>3.5</td>\n      <td>1.4</td>\n      <td>0.2</td>\n      <td>Iris-setosa</td>\n    </tr>\n    <tr>\n      <th>1</th>\n      <td>2</td>\n      <td>4.9</td>\n      <td>3.0</td>\n      <td>1.4</td>\n      <td>0.2</td>\n      <td>Iris-setosa</td>\n    </tr>\n    <tr>\n      <th>2</th>\n      <td>3</td>\n      <td>4.7</td>\n      <td>3.2</td>\n      <td>1.3</td>\n      <td>0.2</td>\n      <td>Iris-setosa</td>\n    </tr>\n    <tr>\n      <th>3</th>\n      <td>4</td>\n      <td>4.6</td>\n      <td>3.1</td>\n      <td>1.5</td>\n      <td>0.2</td>\n      <td>Iris-setosa</td>\n    </tr>\n    <tr>\n      <th>4</th>\n      <td>5</td>\n      <td>5.0</td>\n      <td>3.6</td>\n      <td>1.4</td>\n      <td>0.2</td>\n      <td>Iris-setosa</td>\n    </tr>\n  </tbody>\n</table>\n</div>"
          },
          "metadata": {}
        }
      ]
    },
    {
      "metadata": {
        "trusted": true,
        "_uuid": "b9bcb1709018f265e381a57ff77738646f882483"
      },
      "cell_type": "code",
      "source": "iris.drop('Id',axis=1,inplace=True)",
      "execution_count": 38,
      "outputs": []
    },
    {
      "metadata": {
        "trusted": true,
        "_uuid": "4075782caa3911d98dfc92f9ecfc3e2d881400fb"
      },
      "cell_type": "code",
      "source": "# Creating a function which calculates the distance (eucledian distance) between two data points\ndef euclidian_distance(dp1,dp2,NoOfColumns):\n    distance=0\n    for i in range(NoOfColumns):\n        distance += np.square ( dp1[i] - dp2[i] )\n    return np.sqrt(distance)\n\n# Testing the function \n\ndp1 = [1,3,4,'b']\ndp2 = [3,2,3,'c']\nNoOfColumns = 3 \ntestdistance = euclidian_distance(dp1,dp2,NoOfColumns)\nprint(testdistance)",
      "execution_count": 39,
      "outputs": [
        {
          "output_type": "stream",
          "text": "2.449489742783178\n",
          "name": "stdout"
        }
      ]
    },
    {
      "metadata": {
        "trusted": true,
        "_uuid": "c141bea267fdc91613d1441fdc1c7f72c9d34cec"
      },
      "cell_type": "code",
      "source": "nb = [[1,2,3,4],\n     [5,6,7,8]]\nnb[0][-1]",
      "execution_count": 40,
      "outputs": [
        {
          "output_type": "execute_result",
          "execution_count": 40,
          "data": {
            "text/plain": "4"
          },
          "metadata": {}
        }
      ]
    },
    {
      "metadata": {
        "trusted": true,
        "_uuid": "ce3c5d602886d0ac35781dc93b2902f8e473b19f"
      },
      "cell_type": "code",
      "source": "# Creating / Defining the KNN model \n\ndef knn(TrainingData, testData, k) :\n    distances ={}\n    sort = {}\n    NoOfColumns = testData.shape[1]\n    \n    # Calculating euclidean distance between each row of training data and test data\n    for i in range(len(TrainingData)):\n        InterimDistance = euclidian_distance(TrainingData.iloc[i], testData, NoOfColumns)\n        distances[i] = InterimDistance[0]\n    \n    # Sorting them on the basis of distance\n    SortedDistance = sorted(distances.items(),key=operator.itemgetter(1))\n    # Identifying and extracting the top K neighbours \n    neighbour = []\n    for i in range(k):\n        neighbour.append(SortedDistance[i][0])\n        \n    # Calculating the most freq class/group in the neighbors\n    classvotes = {}\n    for i in range(len(neighbour)):\n        #ClassigiedAs = TrainingData.iloc[][-1] # TrainingData is 2 dimensional array returning value of last column (category of Iris)\n        ClassifiedAs = TrainingData.iloc[neighbour[i]][-1]\n        if ClassifiedAs in classvotes :\n            classvotes[ClassifiedAs] += 1\n        else :\n            classvotes[ClassifiedAs] = 1\n    SortedVotes = sorted(classvotes.items(), key=operator.itemgetter(1), reverse=True)\n    return(SortedVotes[0][0],neighbour)\n    ",
      "execution_count": 63,
      "outputs": []
    },
    {
      "metadata": {
        "trusted": true,
        "_uuid": "079ac33d03a4315c5906008e718af72a1bfc73c8"
      },
      "cell_type": "code",
      "source": "testing = pd.DataFrame([[7.2, 3.6, 5.1, 2.5]])\nkvalue = 5\n#testing\nresult,nb = knn(iris,testing,kvalue)",
      "execution_count": 64,
      "outputs": []
    },
    {
      "metadata": {
        "trusted": true,
        "_uuid": "16ad8bf91224976da5b48ab653dec80630c4271e"
      },
      "cell_type": "code",
      "source": "print(\"Classified as :\", result)\nprint(nb)",
      "execution_count": 69,
      "outputs": [
        {
          "output_type": "stream",
          "text": "Classified as : Iris-virginica\n[141, 139, 120, 145, 144]\n",
          "name": "stdout"
        }
      ]
    },
    {
      "metadata": {
        "_uuid": "4b8ea545afedab013ee7a7540da5cabbabbb47b1"
      },
      "cell_type": "markdown",
      "source": "### Comparing our function with Sklearn "
    },
    {
      "metadata": {
        "trusted": true,
        "_uuid": "59785806be8783b3e8a57a09206678f758f66069"
      },
      "cell_type": "code",
      "source": "from sklearn.neighbors import KNeighborsClassifier",
      "execution_count": 71,
      "outputs": []
    },
    {
      "metadata": {
        "trusted": true,
        "_uuid": "ff5b7eb3ad2ca30044b45035f078b843371841e6"
      },
      "cell_type": "code",
      "source": "nbb = KNeighborsClassifier(n_neighbors = 5 )\nnbb.fit(iris.iloc[:,0:4], iris['Species'])\nprint(nbb.predict(testing))\nprint(nbb.kneighbors(testing)[1][0])",
      "execution_count": 78,
      "outputs": [
        {
          "output_type": "stream",
          "text": "['Iris-virginica']\n[141 139 120 145 144]\n",
          "name": "stdout"
        }
      ]
    },
    {
      "metadata": {
        "_uuid": "06f3fe877eace815b9ef94727aeee0a86eae3b9f"
      },
      "cell_type": "markdown",
      "source": "### Credits\n\nThanks Analytics Vidhya and MachineLearningMastery.com for writing such simplifying  codes.  Dont Sue me for copyright  infringment. :) "
    },
    {
      "metadata": {
        "trusted": true,
        "_uuid": "4fe0445dd9528ed9de6cdaad12fc009e0520500c"
      },
      "cell_type": "code",
      "source": "",
      "execution_count": null,
      "outputs": []
    }
  ],
  "metadata": {
    "kernelspec": {
      "display_name": "Python 3",
      "language": "python",
      "name": "python3"
    },
    "language_info": {
      "name": "python",
      "version": "3.6.6",
      "mimetype": "text/x-python",
      "codemirror_mode": {
        "name": "ipython",
        "version": 3
      },
      "pygments_lexer": "ipython3",
      "nbconvert_exporter": "python",
      "file_extension": ".py"
    }
  },
  "nbformat": 4,
  "nbformat_minor": 1
}